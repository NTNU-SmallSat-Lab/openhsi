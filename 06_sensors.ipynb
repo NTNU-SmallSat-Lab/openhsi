{
 "cells": [
  {
   "cell_type": "code",
   "execution_count": null,
   "metadata": {},
   "outputs": [],
   "source": [
    "# default_exp sensors"
   ]
  },
  {
   "cell_type": "markdown",
   "metadata": {},
   "source": [
    "# Sensors\n",
    "> reads sensor data over UART\n"
   ]
  },
  {
   "cell_type": "code",
   "execution_count": 10,
   "metadata": {},
   "outputs": [],
   "source": [
    "#export\n",
    "import time\n",
    "import serial\n",
    "import numpy as np\n",
    "import pandas as pd"
   ]
  },
  {
   "cell_type": "code",
   "execution_count": 11,
   "metadata": {},
   "outputs": [],
   "source": [
    "#export\n",
    "\n",
    "class sensor_stream(object):\n",
    "    \n",
    "    def __init__(self, baudrate=115200, port=\"/dev/ttyTHS0\"):\n",
    "        self.ser = serial.Serial(port=port,\n",
    "                                baudrate=baudrate,\n",
    "                                bytesize=serial.EIGHTBITS,\n",
    "                                parity=serial.PARITY_NONE,\n",
    "                                stopbits=serial.STOPBITS_ONE,\n",
    "                                )\n",
    "        \n",
    "        # Initialise serial port and wait\n",
    "        self.ser.flushInput()\n",
    "        time.sleep(1) \n",
    "        \n",
    "        # Instantiate list for storing data\n",
    "        self.data = []\n",
    "        self.data_df = None\n",
    "        \n",
    "        \n",
    "    def request(self):\n",
    "        \n",
    "        # Signal teensy to return new data packet\n",
    "        self.ser.write(\"\\n\".encode())\n",
    "                       \n",
    "                       \n",
    "    def record(self):\n",
    "        \n",
    "        # Check if line is ready\n",
    "        if self.ser.inWaiting() > 0:\n",
    "            \n",
    "            # Read line from serial\n",
    "            line_data = self.ser.readline()\n",
    "            \n",
    "            # Format data\n",
    "            line_data = str(line_data).replace(\"b\", \"\").replace(\"'\", \"\").split(\",\")[:-1]\n",
    "            \n",
    "            # Append line to list\n",
    "            self.data.append(line_data)\n",
    "            \n",
    "    \n",
    "    def to_df(self, fields_dict):\n",
    "                \n",
    "        # Convert to dataframe \n",
    "        self.data_df = pd.DataFrame(self.data, columns = fields_dict.keys())\n",
    "        \n",
    "        # Iterate through each column and update data type\n",
    "        for field_name in fields_dict.keys():\n",
    "            \n",
    "            # Convert to float\n",
    "            if fields_dict[field_name] == 'float' or fields_dict[field_name] == 'int':\n",
    "                self.data_df[field_name] =  pd.to_numeric(self.data_df[field_name], errors='coerce')\n",
    "            \n",
    "            # Convert to datetime\n",
    "            elif fields_dict[field_name] == 'datetime':\n",
    "                self.data_df[field_name] =  pd.to_datetime(self.data_df[field_name], errors='coerce')\n",
    "                \n",
    "        # Return formatted data as dataframe\n",
    "        return self.data_df"
   ]
  },
  {
   "cell_type": "code",
   "execution_count": 13,
   "metadata": {},
   "outputs": [],
   "source": [
    "peripherals = sensor_stream(baudrate=921_600,port=\"/dev/ttyTHS0\")\n",
    "peripherals.request()\n",
    "peripherals.record()"
   ]
  },
  {
   "cell_type": "code",
   "execution_count": 14,
   "metadata": {},
   "outputs": [],
   "source": [
    "# Define dictionary column name and data type\n",
    "data_dict = {'rtc_now': 'datetime', \n",
    "             'rtc_temp': 'float', \n",
    "             'air_temp': 'float', \n",
    "             'air_pressure': 'float', \n",
    "             'air_humidity': 'float', \n",
    "             'imu_cal': 'int',\n",
    "             'imu_temp': 'float', \n",
    "             'euler_x': 'float', \n",
    "             'euler_y': 'float', \n",
    "             'euler_z': 'float', \n",
    "             'mag_x': 'float', \n",
    "             'mag_y': 'float', \n",
    "             'mag_z': 'float', \n",
    "             'gps_now': 'datetime', \n",
    "             'latitude': 'float', \n",
    "             'longitude': 'float', \n",
    "             'altitude': 'float', \n",
    "             'numSV': 'int', \n",
    "             'velN': 'float', \n",
    "             'velE': 'float', \n",
    "             'gSpeed': 'float', \n",
    "             'heading': 'float', \n",
    "             'velAcc': 'float', \n",
    "             'pDOP': 'float', \n",
    "             'hAcc': 'float', \n",
    "             'vAcc': 'float', \n",
    "             'headAcc': 'float', \n",
    "             'magDec': 'float', \n",
    "             'magAcc': 'float'}\n",
    "\n",
    "#\n",
    "data_df = peripherals.to_df(data_dict)"
   ]
  },
  {
   "cell_type": "code",
   "execution_count": null,
   "metadata": {},
   "outputs": [],
   "source": []
  }
 ],
 "metadata": {
  "kernelspec": {
   "display_name": "Python 3",
   "language": "python",
   "name": "python3"
  },
  "language_info": {
   "codemirror_mode": {
    "name": "ipython",
    "version": 3
   },
   "file_extension": ".py",
   "mimetype": "text/x-python",
   "name": "python",
   "nbconvert_exporter": "python",
   "pygments_lexer": "ipython3",
   "version": "3.6.9"
  }
 },
 "nbformat": 4,
 "nbformat_minor": 4
}
