{
 "cells": [
  {
   "cell_type": "code",
   "execution_count": null,
   "metadata": {},
   "outputs": [],
   "source": [
    "# default_exp atmosphere"
   ]
  },
  {
   "cell_type": "markdown",
   "metadata": {},
   "source": [
    "# Atmosphere\n",
    "> \n",
    "\n",
    "4. Dark current subtraction\n",
    "5. Flat field correction to get radiance from digital number\n",
    "6. Radiance to Reflectance"
   ]
  },
  {
   "cell_type": "code",
   "execution_count": 1,
   "metadata": {},
   "outputs": [],
   "source": [
    "#hide\n",
    "\n",
    "# documentation extraction for class methods\n",
    "from nbdev.showdoc import *\n",
    "\n",
    "# unit tests using test_eq(...)\n",
    "from fastcore.test import *\n",
    "\n",
    "# monkey patching class methods using @patch\n",
    "from fastcore.foundation import *\n",
    "from fastcore.foundation import patch\n",
    "\n",
    "# imitation of Julia's multiple dispatch using @typedispatch\n",
    "from fastcore.dispatch import typedispatch\n"
   ]
  },
  {
   "cell_type": "code",
   "execution_count": 2,
   "metadata": {},
   "outputs": [
    {
     "name": "stderr",
     "output_type": "stream",
     "text": [
      "/Users/eway/.pyenv/versions/3.8.3/lib/python3.8/site-packages/pandas/compat/__init__.py:117: UserWarning: Could not import the lzma module. Your installed Python is incomplete. Attempting to use lzma compression will result in a RuntimeError.\n",
      "  warnings.warn(msg)\n"
     ]
    }
   ],
   "source": [
    "from openhsi.utils import *\n",
    "from openhsi.calibrate import *\n",
    "from openhsi.capture import *"
   ]
  },
  {
   "cell_type": "code",
   "execution_count": 3,
   "metadata": {},
   "outputs": [],
   "source": [
    "#export\n",
    "from fastcore.foundation import patch\n",
    "from PIL import Image\n",
    "import numpy as np\n",
    "import matplotlib.pyplot as plt\n",
    "import xarray as xr\n",
    "import pandas as pd\n",
    "import datetime\n",
    "\n",
    "from ximea import xiapi\n",
    "from tqdm import tqdm\n",
    "import json\n",
    "from typing import Iterable, Union"
   ]
  },
  {
   "cell_type": "code",
   "execution_count": 7,
   "metadata": {},
   "outputs": [
    {
     "data": {
      "text/plain": [
       "1.5"
      ]
     },
     "execution_count": 7,
     "metadata": {},
     "output_type": "execute_result"
    }
   ],
   "source": [
    "openhsi_settings = settings_load(\"calibration_files/settings.txt\")\n",
    "openhsi_settings[\"fwhm_nm\"]"
   ]
  },
  {
   "cell_type": "code",
   "execution_count": null,
   "metadata": {},
   "outputs": [],
   "source": [
    "\"\"\"\n",
    "processed_data = DataCube(openhsi_settings[\"resolution\"],openhsi_settings[\"row_slice\"],\n",
    "                          n_lines=n,axis=1,shifts=openhsi_settings[\"smile_shifts\"],\n",
    "                          wavelength_range=openhsi_settings[\"index2wavelength_range\"][:2],\n",
    "                          fwhm_nm=openhsi_settings[\"fwhm_nm\"])\n",
    "\n",
    "\n",
    "# OpenHSI object will init and read settings file automatically so no need to do above\n",
    "\n",
    "with OpenHSI(xbinwidth=896,xbinoffset=528,exposure_ms=100,gain=0) as cam:\n",
    "        img = cam.get_img(n,show=False)\n",
    "        #processed_data.push(img) # DataCube and OpenHSI classes not integrated together yet. Can push n times though\n",
    "\"\"\""
   ]
  },
  {
   "cell_type": "code",
   "execution_count": null,
   "metadata": {},
   "outputs": [],
   "source": [
    "luminance_range = np.arange(0,10_000,1000)\n",
    "exposure_range  = np.array([10,15,20])\n",
    "n = 10\n",
    "\n",
    "with OpenHSI(exposure_ms=10,gain=0) as cam:\n",
    "    hcube = cam.get_datacube(n=1,show=False)\n",
    "    shape = np.shape(hcube)\n",
    "\n",
    "for lum in luminance_range:\n",
    "    \n",
    "    input(f\"Press the Enter key when you are ready to start collecting frames at luminance = {lum} cd/m^2\")\n",
    "    \n",
    "    for exposure in exposure_range:\n",
    "        with OpenHSI(exposure_ms=exposure,gain=0) as cam:\n",
    "            hcube = cam.get_datacube(n=n,show=False)\n",
    "            averaged = hcube.sum(axis=-1)\n",
    "\n",
    "with OpenHSI(exposure_ms=10,gain=0) as cam:\n",
    "    hcube = cam.get_datacube(n=100)\n",
    "    averaged = hcube.sum(axis=-1)\n",
    "    \n",
    " = CircArrayBuffer(size=np.shape(averaged),dtype=np.uint32)\n",
    "\n",
    "def __init__(self,size:tuple=(100,100),axis:int=0,dtype=np.uint16,show_func=None):"
   ]
  },
  {
   "cell_type": "code",
   "execution_count": null,
   "metadata": {},
   "outputs": [],
   "source": [
    "radiance_ref = xr.Dataset(data_vars=dict(datacube=([\"x\",\"y\",\"wavelength\"],processed_data.data)),\n",
    "                    coords=dict(\n",
    "                        x=([\"x\"],np.arange(processed_data.size[0])),\n",
    "                        y=([\"y\"],np.arange(processed_data.size[1])),\n",
    "                        wavelength=([\"wavelength\"],wavelengths),\n",
    "                    ),\n",
    "                    attrs=openhsi_settings[\"metadata\"])"
   ]
  },
  {
   "cell_type": "code",
   "execution_count": null,
   "metadata": {},
   "outputs": [],
   "source": []
  },
  {
   "cell_type": "code",
   "execution_count": null,
   "metadata": {},
   "outputs": [],
   "source": []
  }
 ],
 "metadata": {
  "kernelspec": {
   "display_name": "Python 3.8.3 64-bit ('3.8.3': pyenv)",
   "language": "python",
   "name": "python38364bit383pyenv4fc1801d817447c6b9c76f7bacd532a1"
  },
  "language_info": {
   "codemirror_mode": {
    "name": "ipython",
    "version": 3
   },
   "file_extension": ".py",
   "mimetype": "text/x-python",
   "name": "python",
   "nbconvert_exporter": "python",
   "pygments_lexer": "ipython3",
   "version": "3.8.3"
  }
 },
 "nbformat": 4,
 "nbformat_minor": 4
}
