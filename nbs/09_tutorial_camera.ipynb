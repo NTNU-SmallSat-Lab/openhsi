{
 "cells": [
  {
   "cell_type": "markdown",
   "metadata": {},
   "source": [
    "# Tutorial: How to use the OpenHSI Camera\n",
    "\n",
    "> Basic usage tips\n",
    "\n",
    "To use an OpenHSI camera, you will need a settings .json file that describes how the camera is initialised and other details you can edit to suit your use case. You will also need a .pkl file that includes some arrays produced during calibration that allow the OpenHSI camera to do smile corrections, and conversions to radiance and reflectance. \n",
    "\n",
    "For example, this is how you would use an OpenHSI camera (packaged with a Lucid sensor) and produce a . The context manager automatically handles the initialisation and closing of the camera. "
   ]
  },
  {
   "cell_type": "code",
   "execution_count": null,
   "metadata": {},
   "outputs": [],
   "source": [
    "#hardware\n",
    "json_path='cals/OpenHSI-07/OpenHSI-07_settings_Mono8_bin1.json'\n",
    "pkl_path='cals/OpenHSI-07/OpenHSI-07_calibration_Mono8_bin1.pkl'\n",
    "\n",
    "with LucidCamera(n_lines=1000, \n",
    "                 processing_lvl = 2, \n",
    "                 pkl_path=pkl_path,json_path=json_path,\n",
    "                 exposure_ms=10\n",
    "                ) as cam:\n",
    "    cam.collect()\n",
    "    fig = cam.show(robust=True)\n",
    "     \n",
    "fig"
   ]
  },
  {
   "cell_type": "markdown",
   "metadata": {},
   "source": [
    "The datacube data can be accessed using `cam.dc.data`.\n",
    "To save the datacube to NetCDF format (alongside an RGB picture), use `cam.save`. For more information, checkout the \"Data Transforms\" tab in the sidebar. "
   ]
  }
 ],
 "metadata": {
  "kernelspec": {
   "display_name": "Python 3.8.3 64-bit ('3.8.3': pyenv)",
   "language": "python",
   "name": "python38364bit383pyenv4fc1801d817447c6b9c76f7bacd532a1"
  }
 },
 "nbformat": 4,
 "nbformat_minor": 4
}
