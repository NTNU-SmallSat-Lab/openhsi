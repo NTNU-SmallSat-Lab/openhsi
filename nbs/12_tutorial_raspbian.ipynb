{
 "cells": [
  {
   "cell_type": "code",
   "execution_count": null,
   "metadata": {},
   "outputs": [],
   "source": [
    "# default_exp tutorial"
   ]
  },
  {
   "cell_type": "markdown",
   "metadata": {},
   "source": [
    "# Installing on Raspbian 64 bit\n",
    "\n",
    "> A tutorial on installing the `openhsi` library and camera SDKs on a Raspberry Pi 4 with 8 GB RAM."
   ]
  },
  {
   "cell_type": "markdown",
   "metadata": {},
   "source": [
    "> Warning: This tutorial is a work in progress. \n",
    "\n",
    "> Warning: Using `openhsi` requires generating large datacubes which take up lots of RAM. It is recommended to get a Raspberry Pi 4 with as much RAM as possible, especially if you want to capture raw data. Otherwise, you will need to a `processing_lvl` that includes binning to reduce the datacube size. \n",
    "\n",
    "A Raspberry Pi does not have the same processing power as a typical laptop/computer and so expect the framerate to drop slightly. You want a lightweight operating system so the camera can run as fast as possible - this rules out the Ubuntu 64 bit OS. If you have 8 GB of RAM, definitely get the Raspbian 64 bit OS so you can use > 3 GB per process. Another benefit of running on ARM64 bit is that there are prebuilt OpenCV Python wheels - if your project requires `opencv-python`, then 64 bit is needed.\n",
    "\n",
    "> Note: The latest 64 bit Raspbian is based on Debian 11 Bullseye (equivalent to Ubuntu 21+) and so some packages may not be updated to this platform yet. Also `systemd` is used to run scripts on startup. "
   ]
  },
  {
   "cell_type": "markdown",
   "metadata": {},
   "source": [
    "**Step 1**: Download Raspbian 64 bit OS\n",
    "**Step 2**: Flash a high speed micro SD card. The full install will be about 8 GB so use a larger capacity card if you can. \n",
    "\n",
    "> Tip: Hyperspectral datacubes are really large so best to save them to an external SSD.\n",
    "\n",
    "**Step 3**: Install `vim` or your favourite command line editor\n",
    "`sudo apt-get install vim`\n",
    "\n",
    "**Step 4**: Install your Python version of choice.\n",
    "The default system Python should be 3.9.3. However, if you want to use `FlirCamera`, the manufacturer SDK and Python library requires Python <= 3.8. \n",
    "\n",
    "To install any version of Python, you can use `pyenv`\n",
    "```bash\n",
    "sudo apt-get install openssl\n",
    "sudo apt-get install --no-install-recommends make build-essential libssl-dev zlib1g-dev libbz2-dev libreadline-dev libsqlite3-dev wget curl llvm libncurses5-dev xz-utils tk-dev libxml2-dev libxmlsec1-dev libffi-dev liblzma-dev\n",
    "sudo apt-get install -y gcc make zlib1g-dev libreadline-dev libreadline8 sqlite3 libsqlite3-dev libbz2-dev python-tk python3-tk tk-dev\n",
    "curl https://pyenv.run | bash\n",
    "\n",
    "export PATH=\"$HOME/.pyenv/bin:$PATH\"\n",
    "pyenv install 3.8.12\n",
    "export PATH=\"$HOME/.pyenv/bin:$HOME/.pyenv/shims:$PATH\"\n",
    "\n",
    "\n",
    "```\n",
    "\n",
    "**Step 4.1**: Install NodeJS\n",
    "This is needed to use the Bokeh plotting library and run interactive tools in a web browser.\n",
    "`sudo apt install nodejs`\n",
    "\n",
    "**Step 5**: Enable I2C and UART\n",
    "Open the Raspberry Pi config tool.\n",
    "`sudo raspi-config`\n",
    "And enable I2C and UART. For more instructions see [https://askubuntu.com/questions/1273700/enable-spi-and-i2c-on-ubuntu-20-04-raspberry-pi](https://askubuntu.com/questions/1273700/enable-spi-and-i2c-on-ubuntu-20-04-raspberry-pi).\n",
    "After enabling them, add the user pi to the group.\n",
    "`sudo usermod -a -G dialout pi`\n",
    "`sudo usermod -a -G i2c pi`\n",
    "\n",
    "Now, to use UART at high speed, we need to change a few more settings documented here\n",
    "https://www.abelectronics.co.uk/kb/article/1035/serial-port-setup-in-raspberry-pi-os\n",
    "\n",
    "**Step 5.1**: Disable serial login shell\n",
    "remove `console=serial0,115200` from /boot/cmdline.txt\n",
    "then reboot.\n",
    "**Step 5.2**: Use PI0UART instead of miniUART\n",
    "Add to end of file /boot/config.txt\n",
    "`dtoverlay=disable-bt`\n",
    "Then in the terminal\n",
    "`sudo systemctl disable hciuart`\n",
    "`sudo reboot`\n"
   ]
  },
  {
   "cell_type": "markdown",
   "metadata": {},
   "source": [
    "## Installing the Battery Hat software\n",
    "\n",
    "To deploy the Raspberry Pi on a remote platform, it needs power. We use the X728 version 2.1 battery hat from Suptronics which lets us turn on and safe shutdown the Pi while indicating power left. \n",
    "\n",
    "Since we are using Debian 11, we need to use systemd to enable /etc/rc-local which the battery hat scripts use. Follow the steps in \n",
    "https://www.linuxbabe.com/linux-server/how-to-enable-etcrc-local-with-systemd\n",
    "\n",
    "The software for the battery hat can be found here:\n",
    "https://wiki.geekworm.com/X728-Software\n",
    "Be aware that you need to make some changes to get them to install\n",
    "Change `python-smbus` to `python3-smbus`\n",
    "`sudo apt-get install python3-smbus`\n",
    "`pip install smbus`\n",
    "`pip install RPi.GPIO`\n",
    "Python 2 is deprecated so convert x728pld.py to Python 3 syntax.\n",
    "Add PY_VERSION=3 on line 86 in x728-v2.0.sh (or equivalent in v2.1)\n"
   ]
  },
  {
   "cell_type": "markdown",
   "metadata": {},
   "source": [
    "## Installing the FLIR SDK\n",
    "\n",
    "You will need to install Spinnaker however you'll find that `spinview-qt` will not install because it is missing a dependency which we actually don't need (unless you want to use the GUI called SpinView).\n",
    "`sudo apt install qtbase5-dev qtchooser qt5-qmake qtbase5-dev-tools`\n",
    "Follow the hacks found in\n",
    "https://askubuntu.com/questions/1335184/qt5-default-not-in-ubuntu-21-04\n",
    "I extracted the offending package, changed a line stating the dependency, then repackaged the files. \n",
    "\n",
    "More information on getting the FLIR SDK on a Raspberry Pi and Jetson is here\n",
    "https://www.flir.com.au/support-center/iis/machine-vision/application-note/using-spinnaker-on-arm-and-embedded-systems/\n",
    "\n",
    "> Tip: Get the aarch64 and arm64 packages (no amd)\n",
    "\n",
    "The install then becomes just\n",
    "`sudo sh install_[according to your version].sh`\n",
    "`pip install [according to your Python version].whl file`\n"
   ]
  },
  {
   "cell_type": "markdown",
   "metadata": {},
   "source": [
    "## Mounting SSD without sudo\n",
    "\n",
    "The reason why we want to mount the SSD without sudo is that we can then write to it without sudo.\n",
    "\n",
    "First, identify your SSD using\n",
    "`sudo fdisk -l`\n",
    "I followed the steps in \n",
    "https://blog.onetwentyseven001.com/mounting-without-sudo/index.html"
   ]
  },
  {
   "cell_type": "markdown",
   "metadata": {},
   "source": [
    "Congratulations, you now have a Raspbian 64 bit OS that can run the `FlirCamera` and `openhsi`!"
   ]
  },
  {
   "cell_type": "code",
   "execution_count": null,
   "metadata": {},
   "outputs": [],
   "source": []
  }
 ],
 "metadata": {
  "kernelspec": {
   "display_name": "Python 3",
   "language": "python",
   "name": "python3"
  },
  "language_info": {
   "codemirror_mode": {
    "name": "ipython",
    "version": 3
   },
   "file_extension": ".py",
   "mimetype": "text/x-python",
   "name": "python",
   "nbconvert_exporter": "python",
   "pygments_lexer": "ipython3",
   "version": "3.8.3"
  }
 },
 "nbformat": 4,
 "nbformat_minor": 4
}
