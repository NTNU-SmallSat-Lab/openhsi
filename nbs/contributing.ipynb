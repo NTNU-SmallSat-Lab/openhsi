{
 "cells": [
  {
   "cell_type": "raw",
   "metadata": {},
   "source": [
    "---\n",
    "description: Guide to contributing to OpenHSI\n",
    "output-file: contributing.html\n",
    "title: Contributing\n",
    "\n",
    "---\n",
    "\n"
   ]
  },
  {
   "cell_type": "markdown",
   "metadata": {},
   "source": [
    "# How to contribute"
   ]
  },
  {
   "cell_type": "markdown",
   "metadata": {},
   "source": [
    "## How to get started\n",
    "\n",
    "Clone the repository (this is a shallow clone, remove depth tag for full history, much larger due to notebooks).\n",
    "```\n",
    "git clone --depth 1 git@github.com:openhsi/openhsi.git\n",
    "cd openhsi\n",
    "```\n",
    "\n",
    "You will need to install `nbdev` (v2) to extract the library and produce the documentation files from the notebooks. This should be done in the enviroment setup below.\n",
    "\n",
    "Before anything else, please install the git hooks that run automatic scripts during each commit and merge to strip the notebooks of superfluous metadata (and avoid merge conflicts). After cloning the repository and setting enviroment, run the following command inside it:\n",
    "```\n",
    "nbdev_install_hooks\n",
    "```"
   ]
  },
  {
   "cell_type": "markdown",
   "metadata": {},
   "source": [
    "## Setuping up Python enviroment\n",
    "\n",
    "We recommend miniconda (https://docs.conda.io/en/latest/miniconda.html) or Miniforge (https://github.com/conda-forge/miniforge) as the base eniviroment for minimal effort. However any modern python install (py>3.6) should work.\n",
    "\n",
    "### Setup via conda\n",
    "Install all python dependancies for OpenHSI (excepts cameras) and 6SV.\n",
    "\n",
    "    conda env create -f environment.yml\n",
    "    conda develop .\n",
    "\n",
    "### Setup via pip\n",
    "\n",
    "    pip install -e .\n",
    "\n",
    "#### Install 6SV (only needed for pip install)\n",
    "\n",
    "    git clone https://github.com/robintw/6S.git\n",
    "    cd 6S\n",
    "    cmake -D CMAKE_INSTALL_PREFIX=/usr/local ."
   ]
  },
  {
   "cell_type": "markdown",
   "metadata": {},
   "source": [
    "### Install LUCIDVISION SDK (Sydney Photonics/Robonation OpenHSI)\n",
    "The Robonation OpenHSI uses the detectr fromLucid Vision systems. The full SDK is required to use the sensor with the OpenHSI libary. This can be aquirred from https://thinklucid.com/downloads-hub/.\n",
    "\n",
    "To ensure opitmal performace you need to make sure your GigE link is setup for jumbo packets.\n",
    "\n",
    "On Ubuntu system this can be done using (you may want to set this up to occur on startup):\n",
    "    \n",
    "    sudo ip link set eth0 mtu 9000\n",
    "\n",
    "\n",
    "### Weird Specific things using some cameras\n",
    "\n",
    "#### fix ximea thread warning\n",
    "```\n",
    "    sudo setcap cap_sys_nice+ep readlink -f $(which python)\n",
    "    sudo setcap cap_sys_nice+ep readlink -f $(which jupyter)\n",
    "```"
   ]
  },
  {
   "cell_type": "markdown",
   "metadata": {},
   "source": [
    "## A note on how the automation tools are set up\n",
    "\n",
    "Any cell in the notebook marked with `#export` in the first line, will be extracted to generate the library. All other cells are used to create the documentation and to define tests. \n",
    "\n",
    "To hide cells from appearing in the documentation, mark the cell with `#hide` in the first line. That's it!\n",
    "\n",
    "## Extracting Library\n",
    "Any cells you mark as `#| export` in the first line is automatically extracted. All other cells will appear in the documentation. If you don't want cells to appear in the documentation, mark the first line with `#hide`. To extract the library, the terminal command is\n",
    "```\n",
    "nbdev_export\n",
    "```\n",
    "\n",
    "## Documentation\n",
    "\n",
    "Docs are automatically created from the notebooks and deployed to GitHub Pages. To preview them use the terminal command\n",
    "```\n",
    "nbdev_preview\n",
    "```"
   ]
  },
  {
   "cell_type": "markdown",
   "metadata": {},
   "source": [
    "## Updating changes to GitHub\n",
    "\n",
    "First fastforward your copy to include the latest change.\n",
    "```\n",
    "git pull\n",
    "```\n",
    "\n",
    "Push your changes as usual.\n",
    "```\n",
    "git add .\n",
    "git commit -m \"commit message\"\n",
    "git push\n",
    "```"
   ]
  },
  {
   "cell_type": "markdown",
   "metadata": {},
   "source": [
    "## Did you find a bug?\n",
    "\n",
    "* Ensure the bug was not already reported by searching on GitHub under Issues.\n",
    "* If you're unable to find an open issue addressing the problem, open a new one. Be sure to include a title and clear description, as much relevant information as possible, and a code sample or an executable test case demonstrating the expected behavior that is not occurring.\n",
    "* Be sure to add the complete error messages.\n",
    "\n",
    "#### Did you write a patch that fixes a bug?\n",
    "\n",
    "* Open a new GitHub pull request with the patch.\n",
    "* Ensure that your PR includes a test that fails without your patch, and pass with it.\n",
    "* Ensure the PR description clearly describes the problem and solution. Include the relevant issue number if applicable.\n",
    "\n",
    "## PR submission guidelines\n",
    "\n",
    "* Keep each PR focused. While it's more convenient, do not combine several unrelated fixes together. Create as many branches as needing to keep each PR focused.\n",
    "* Do not mix style changes/fixes with \"functional\" changes. It's very difficult to review such PRs and it most likely get rejected.\n",
    "* Do not add/remove vertical whitespace. Preserve the original style of the file you edit as much as you can.\n",
    "* Do not turn an already submitted PR into your development playground. If after you submitted PR, you discovered that more work is needed - close the PR, do the required work and then submit a new PR. Otherwise each of your commits requires attention from maintainers of the project.\n",
    "* If, however, you submitted a PR and received a request for changes, you should proceed with comm"
   ]
  }
 ],
 "metadata": {
  "kernelspec": {
   "display_name": "python3",
   "language": "python",
   "name": "python3"
  }
 },
 "nbformat": 4,
 "nbformat_minor": 4
}
